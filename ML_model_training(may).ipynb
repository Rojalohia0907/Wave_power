{
 "cells": [
  {
   "cell_type": "code",
   "execution_count": 9,
   "id": "aface6c2-e066-4cb7-be9d-f903242677da",
   "metadata": {},
   "outputs": [
    {
     "name": "stdout",
     "output_type": "stream",
     "text": [
      "✅ Training dataset created successfully with 831 samples!\n"
     ]
    }
   ],
   "source": [
    "import rasterio\n",
    "from rasterio.enums import Resampling\n",
    "import numpy as np\n",
    "import pandas as pd\n",
    "from rasterio.warp import reproject\n",
    "from rasterio.transform import xy\n",
    "\n",
    "# Step 1: Open Suitability Map (2014) as Reference\n",
    "suitability_path = \"D:/project 2/Model datas/Apr/woa_apr.tif\"\n",
    "with rasterio.open(suitability_path) as src:\n",
    "    suitability_data = src.read(1)  # Read first band\n",
    "    transform = src.transform\n",
    "    crs = src.crs\n",
    "    meta = src.meta\n",
    "    height, width = src.shape  # Get reference dimensions\n",
    "\n",
    "# Step 2: Define Parameter Layers\n",
    "parameter_paths = {\n",
    "    \"Wave_Power\": \"D:/project 2/Model datas/Apr/raster_wp_apr.tif\",\n",
    "    \"Bathymetry\": \"D:/project 2/Model datas/Apr/raster_bathy.tif\",\n",
    "    \"Distance_to_Shore\": \"D:/project 2/Model datas/Apr/dist_reclass.tif\",\n",
    "    \"Chlorophyll\":\"D:/project 2/Model datas/Apr/raster_feb.tif\",\n",
    "    \"Salinity\": \"D:/project 2/Model datas/Apr/raster_sal_april.tif\"\n",
    "}\n",
    "\n",
    "# Initialize Data Dictionary\n",
    "data_dict = {\"Suitability_Class\": suitability_data.flatten()}\n",
    "\n",
    "# Step 3: Resample Parameter Layers to Match Suitability Map\n",
    "for param_name, param_path in parameter_paths.items():\n",
    "    with rasterio.open(param_path) as src:\n",
    "        param_data = src.read(1)\n",
    "\n",
    "        # Resample to match suitability map\n",
    "        param_resampled = np.zeros((height, width), dtype=param_data.dtype)\n",
    "        reproject(\n",
    "            source=param_data,\n",
    "            destination=param_resampled,\n",
    "            src_transform=src.transform,\n",
    "            src_crs=src.crs,\n",
    "            dst_transform=transform,\n",
    "            dst_crs=crs,\n",
    "            resampling=Resampling.nearest  # Nearest neighbor resampling\n",
    "        )\n",
    "\n",
    "        data_dict[param_name] = param_resampled.flatten()  # Flatten for DataFrame storage\n",
    "\n",
    "# Step 4: Remove NoData Pixels\n",
    "valid_mask = (data_dict[\"Suitability_Class\"] > 0)  # Keep only valid pixels (not NoData)\n",
    "\n",
    "for key in data_dict.keys():\n",
    "    data_dict[key] = data_dict[key][valid_mask]  # Apply mask to all layers\n",
    "\n",
    "# Step 5: Convert Pixel Indices to Latitude & Longitude\n",
    "rows, cols = np.where(valid_mask.reshape(height, width))  # Convert 1D mask to 2D\n",
    "longitudes, latitudes = xy(transform, rows, cols)  # Convert to coordinates\n",
    "\n",
    "# Step 6: Add Coordinates to Data Dictionary\n",
    "data_dict[\"Latitude\"] = latitudes\n",
    "data_dict[\"Longitude\"] = longitudes\n",
    "\n",
    "# Step 7: Save as CSV\n",
    "df_training = pd.DataFrame(data_dict)\n",
    "df_training.to_csv(\"D:/project 2/Model datas/Apr/training_data_apr_2014.csv\", index=False)\n",
    "\n",
    "print(\"✅ Training dataset created successfully with\", len(df_training), \"samples!\")\n"
   ]
  },
  {
   "cell_type": "code",
   "execution_count": null,
   "id": "d3b5bee6-8e82-4a3c-88ee-1c92f1b6b425",
   "metadata": {},
   "outputs": [],
   "source": []
  },
  {
   "cell_type": "code",
   "execution_count": null,
   "id": "7f5dcffa-89f4-4583-a1c5-36d9998902f6",
   "metadata": {},
   "outputs": [],
   "source": []
  }
 ],
 "metadata": {
  "kernelspec": {
   "display_name": "Python [conda env:base] *",
   "language": "python",
   "name": "conda-base-py"
  },
  "language_info": {
   "codemirror_mode": {
    "name": "ipython",
    "version": 3
   },
   "file_extension": ".py",
   "mimetype": "text/x-python",
   "name": "python",
   "nbconvert_exporter": "python",
   "pygments_lexer": "ipython3",
   "version": "3.12.7"
  }
 },
 "nbformat": 4,
 "nbformat_minor": 5
}
